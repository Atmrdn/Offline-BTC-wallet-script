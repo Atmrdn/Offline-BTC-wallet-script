{
 "cells": [
  {
   "cell_type": "code",
   "execution_count": 1,
   "id": "d6c24f33-f9ed-4751-a925-cb02cebece6b",
   "metadata": {},
   "outputs": [
    {
     "data": {
      "text/plain": [
       "('1CemFBDcofxVEGTp2MTCMEiZyBfAtSTkBu',\n",
       " '79f1763c294ea47f762c941f98ebfb63cfc5e7cb9ff2180c4e4a2ac71d1cfd68')"
      ]
     },
     "execution_count": 1,
     "metadata": {},
     "output_type": "execute_result"
    }
   ],
   "source": [
    "import os\n",
    "import hashlib\n",
    "import ecdsa\n",
    "import base58\n",
    "\n",
    "# 1️⃣ Generate a random 32-byte (256-bit) private key\n",
    "private_key = os.urandom(32)  # Generates 32 random b\n",
    "private_key_hex = private_key.hex()  # Convert to hex format\n",
    "\n",
    "\n",
    "# 2️⃣ Generate the public key using the SECP256k1 elliptic curve\n",
    "sk = ecdsa.SigningKey.from_string(private_key, curve=ecdsa.SECP256k1)  \n",
    "vk = sk.verifying_key  \n",
    "public_key = b'\\x04' + vk.to_string()  # Uncompressed format (prefix 0x04)\n",
    "public_key_hex = public_key.hex()\n",
    "\n",
    "private_key_hex, public_key.hex()\n",
    "\n",
    "# 3️⃣ Compress the public key\n",
    "x_coord = public_key[1:33]  # First 32 bytes (x-coordinate)\n",
    "y_coord = public_key[33:65]  # Last 32 bytes (y-coordinate)\n",
    "prefix = b'\\x02' if y_coord[-1] % 2 == 0 else b'\\x03'  # Even y -> 02, Odd y -> 03\n",
    "compressed_public_key = prefix + x_coord\n",
    "compressed_public_key_hex = compressed_public_key.hex()\n",
    "\n",
    "compressed_public_key.hex()\n",
    "\n",
    "# 4️⃣ Hash the compressed public key with SHA-256, then RIPEMD-160\n",
    "sha256_hash = hashlib.sha256(compressed_public_key).digest()\n",
    "ripemd160_hash = hashlib.new('ripemd160', sha256_hash).digest()\n",
    "\n",
    "hashlib.new('ripemd160', sha256_hash).digest()\n",
    "\n",
    "# 5️⃣ Add Bitcoin Mainnet prefix (0x00)\n",
    "network_byte = b'\\x00' + hashlib.new('ripemd160', sha256_hash).digest()\n",
    "\n",
    "b'\\x00' + hashlib.new('ripemd160', sha256_hash).digest()\n",
    "\n",
    "# 6️⃣ Compute the checksum (first 4 bytes of double SHA-256)\n",
    "checksum = hashlib.sha256(hashlib.sha256(network_byte).digest()).digest()[:4]\n",
    "\n",
    "hashlib.sha256(hashlib.sha256(network_byte).digest()).digest()[:4]\n",
    "\n",
    "# 7️⃣ Create the final binary Bitcoin address and encode in Base58\n",
    "binary_address = network_byte + checksum\n",
    "bitcoin_address = base58.b58encode(binary_address).decode()\n",
    "\n",
    "bitcoin_address, private_key_hex\n"
   ]
  },
  {
   "cell_type": "code",
   "execution_count": null,
   "id": "ca0217c3-7ff5-4e58-a2d3-218f0c3732e8",
   "metadata": {},
   "outputs": [],
   "source": []
  },
  {
   "cell_type": "code",
   "execution_count": null,
   "id": "1565bb07-0d18-49a6-bfcf-6c770db24743",
   "metadata": {},
   "outputs": [],
   "source": []
  }
 ],
 "metadata": {
  "kernelspec": {
   "display_name": "Python 3 (ipykernel)",
   "language": "python",
   "name": "python3"
  },
  "language_info": {
   "codemirror_mode": {
    "name": "ipython",
    "version": 3
   },
   "file_extension": ".py",
   "mimetype": "text/x-python",
   "name": "python",
   "nbconvert_exporter": "python",
   "pygments_lexer": "ipython3",
   "version": "3.12.4"
  }
 },
 "nbformat": 4,
 "nbformat_minor": 5
}
